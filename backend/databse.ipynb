{
 "cells": [
  {
   "cell_type": "code",
   "execution_count": 1,
   "metadata": {},
   "outputs": [],
   "source": [
    "import pymongo\n",
    "from pymongo import MongoClient"
   ]
  },
  {
   "cell_type": "code",
   "execution_count": 2,
   "metadata": {},
   "outputs": [],
   "source": [
    "client = MongoClient(\"mongodb://localhost:27017/\")"
   ]
  },
  {
   "cell_type": "code",
   "execution_count": 3,
   "metadata": {},
   "outputs": [
    {
     "data": {
      "text/plain": [
       "('localhost', 27017)"
      ]
     },
     "execution_count": 3,
     "metadata": {},
     "output_type": "execute_result"
    }
   ],
   "source": [
    "client.address "
   ]
  },
  {
   "cell_type": "code",
   "execution_count": 4,
   "metadata": {},
   "outputs": [],
   "source": [
    "db = client.test"
   ]
  },
  {
   "cell_type": "code",
   "execution_count": 5,
   "metadata": {},
   "outputs": [
    {
     "data": {
      "text/plain": [
       "['users', 'employees']"
      ]
     },
     "execution_count": 5,
     "metadata": {},
     "output_type": "execute_result"
    }
   ],
   "source": [
    "db.list_collection_names()"
   ]
  },
  {
   "cell_type": "code",
   "execution_count": 6,
   "metadata": {},
   "outputs": [],
   "source": [
    "collection= db['users']"
   ]
  },
  {
   "cell_type": "code",
   "execution_count": 7,
   "metadata": {},
   "outputs": [
    {
     "data": {
      "text/plain": [
       "{'_id': ObjectId('66115c10707d03b4a5bbacfa'),\n",
       " 'name': 'tony',\n",
       " 'email': 'tony@gmail.com',\n",
       " 'age': 50,\n",
       " '__v': 0}"
      ]
     },
     "execution_count": 7,
     "metadata": {},
     "output_type": "execute_result"
    }
   ],
   "source": [
    "collection.find_one()"
   ]
  },
  {
   "cell_type": "code",
   "execution_count": 8,
   "metadata": {},
   "outputs": [
    {
     "data": {
      "text/plain": [
       "<pymongo.synchronous.cursor.Cursor at 0x1d93be0a810>"
      ]
     },
     "execution_count": 8,
     "metadata": {},
     "output_type": "execute_result"
    }
   ],
   "source": [
    "collection.find()"
   ]
  },
  {
   "cell_type": "code",
   "execution_count": 9,
   "metadata": {},
   "outputs": [
    {
     "data": {
      "text/plain": [
       "{'_id': ObjectId('66115c10707d03b4a5bbacfc'),\n",
       " 'name': 'bruce',\n",
       " 'email': 'bruce@gmail.com',\n",
       " 'age': 47,\n",
       " '__v': 0}"
      ]
     },
     "execution_count": 9,
     "metadata": {},
     "output_type": "execute_result"
    }
   ],
   "source": [
    "collection.find_one({'name':\"bruce\"})"
   ]
  },
  {
   "cell_type": "code",
   "execution_count": 10,
   "metadata": {},
   "outputs": [
    {
     "data": {
      "text/plain": [
       "InsertOneResult(ObjectId('66f25135b704365d3de5589b'), acknowledged=True)"
      ]
     },
     "execution_count": 10,
     "metadata": {},
     "output_type": "execute_result"
    }
   ],
   "source": [
    "new_user={\n",
    "    'name': 'steve',\n",
    " 'email': 'steve@gmail.com',\n",
    " 'age': 103,\n",
    "}\n",
    "collection.insert_one(new_user)"
   ]
  },
  {
   "cell_type": "code",
   "execution_count": 11,
   "metadata": {},
   "outputs": [],
   "source": [
    "# new_users=[\n",
    "#     {\n",
    "#     'name': 'peter',\n",
    "#  'email': 'peter@gmail.com',\n",
    "#  'age': 17,\n",
    "# },\n",
    "# {\n",
    "#     'name': 'bucky',\n",
    "#  'email': 'bucky@gmail.com',\n",
    "#  'age': 104,\n",
    "# },\n",
    "# {\n",
    "#     'name': 'clint',\n",
    "#  'email': 'clint@gmail.com',\n",
    "#  'age': 47,\n",
    "# }\n",
    "# ]\n",
    "\n",
    "# collection.insert_many(new_users)"
   ]
  },
  {
   "cell_type": "code",
   "execution_count": 12,
   "metadata": {},
   "outputs": [
    {
     "data": {
      "text/plain": [
       "7"
      ]
     },
     "execution_count": 12,
     "metadata": {},
     "output_type": "execute_result"
    }
   ],
   "source": [
    "collection.count_documents({}) # required parameter {}"
   ]
  },
  {
   "cell_type": "code",
   "execution_count": 13,
   "metadata": {},
   "outputs": [
    {
     "data": {
      "text/plain": [
       "1"
      ]
     },
     "execution_count": 13,
     "metadata": {},
     "output_type": "execute_result"
    }
   ],
   "source": [
    "collection.count_documents({'name':'peter'}) # required parameter {}\n"
   ]
  },
  {
   "cell_type": "markdown",
   "metadata": {},
   "source": []
  },
  {
   "cell_type": "code",
   "execution_count": 14,
   "metadata": {},
   "outputs": [
    {
     "data": {
      "text/plain": [
       "UpdateResult({'n': 1, 'nModified': 1, 'ok': 1.0, 'updatedExisting': True}, acknowledged=True)"
      ]
     },
     "execution_count": 14,
     "metadata": {},
     "output_type": "execute_result"
    }
   ],
   "source": [
    "collection.update_one({\"name\":\"peter\"},{'$set':{'age':20}})"
   ]
  },
  {
   "cell_type": "code",
   "execution_count": 15,
   "metadata": {},
   "outputs": [
    {
     "data": {
      "text/plain": [
       "UpdateResult({'n': 7, 'nModified': 7, 'ok': 1.0, 'updatedExisting': True}, acknowledged=True)"
      ]
     },
     "execution_count": 15,
     "metadata": {},
     "output_type": "execute_result"
    }
   ],
   "source": [
    "collection.update_many({},{'$set':{'team':\"avengers\"}})"
   ]
  },
  {
   "cell_type": "code",
   "execution_count": 23,
   "metadata": {},
   "outputs": [
    {
     "data": {
      "text/plain": [
       "[{'_id': ObjectId('66115c10707d03b4a5bbacfa'),\n",
       "  'name': 'tony',\n",
       "  'email': 'tony@gmail.com',\n",
       "  'age': 50,\n",
       "  '__v': 0,\n",
       "  'team': 'avengers'},\n",
       " {'_id': ObjectId('66115c10707d03b4a5bbacfc'),\n",
       "  'name': 'bruce',\n",
       "  'email': 'bruce@gmail.com',\n",
       "  'age': 47,\n",
       "  '__v': 0,\n",
       "  'team': 'avengers'},\n",
       " {'_id': ObjectId('66f1bf191cb8dd2a9572f248'),\n",
       "  'name': 'steve',\n",
       "  'email': 'steve@gmail.com',\n",
       "  'age': 103,\n",
       "  'team': 'avengers'},\n",
       " {'_id': ObjectId('66f1bfbf1cb8dd2a9572f249'),\n",
       "  'name': 'peter',\n",
       "  'email': 'peter@gmail.com',\n",
       "  'age': 20,\n",
       "  'team': 'avengers'},\n",
       " {'_id': ObjectId('66f1bfbf1cb8dd2a9572f24a'),\n",
       "  'name': 'bucky',\n",
       "  'email': 'bucky@gmail.com',\n",
       "  'age': 104,\n",
       "  'team': 'avengers'},\n",
       " {'_id': ObjectId('66f1bfbf1cb8dd2a9572f24b'),\n",
       "  'name': 'clint',\n",
       "  'email': 'clint@gmail.com',\n",
       "  'age': 47,\n",
       "  'team': 'avengers'},\n",
       " {'_id': ObjectId('66f25135b704365d3de5589b'),\n",
       "  'name': 'steve',\n",
       "  'email': 'steve@gmail.com',\n",
       "  'age': 103,\n",
       "  'team': 'avengers'}]"
      ]
     },
     "execution_count": 23,
     "metadata": {},
     "output_type": "execute_result"
    }
   ],
   "source": [
    "list(collection.find({}))"
   ]
  },
  {
   "cell_type": "code",
   "execution_count": null,
   "metadata": {},
   "outputs": [],
   "source": []
  }
 ],
 "metadata": {
  "kernelspec": {
   "display_name": "Python 3",
   "language": "python",
   "name": "python3"
  },
  "language_info": {
   "codemirror_mode": {
    "name": "ipython",
    "version": 3
   },
   "file_extension": ".py",
   "mimetype": "text/x-python",
   "name": "python",
   "nbconvert_exporter": "python",
   "pygments_lexer": "ipython3",
   "version": "3.12.1"
  }
 },
 "nbformat": 4,
 "nbformat_minor": 2
}
